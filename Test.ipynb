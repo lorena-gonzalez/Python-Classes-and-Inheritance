{
 "cells": [
  {
   "cell_type": "markdown",
   "metadata": {},
   "source": [
    "# Tests\n"
   ]
  },
  {
   "cell_type": "markdown",
   "metadata": {},
   "source": [
    "We will first show how to test a class using an example\n"
   ]
  },
  {
   "cell_type": "code",
   "execution_count": 5,
   "metadata": {},
   "outputs": [],
   "source": [
    "import test"
   ]
  },
  {
   "cell_type": "code",
   "execution_count": 6,
   "metadata": {},
   "outputs": [],
   "source": [
    "class Point:\n",
    "    \"\"\" Point class representing and manipulating x, y coordinates \"\"\"\n",
    "    \n",
    "    def __init__(self, initX, initY):\n",
    "        self.x = initX\n",
    "        self.y = initY\n",
    "        \n",
    "    def distanceFromOrigin(self):\n",
    "        return ((self.x**2) + (self.y**2))**0.5\n",
    "    \n",
    "    def move(self, dx, dy):\n",
    "        self.x = self.x + dx\n",
    "        self.y = self.y + dy\n",
    "    "
   ]
  },
  {
   "cell_type": "markdown",
   "metadata": {},
   "source": [
    "To test a user-defined class, you will create test cases that check whether instances are created properly, and you will create test cases for each of the methods as functions, by invoking them on particular instances and seeing whether they produce the correct return values and side effects, especially side effects that change data stored in the instance variables. \n",
    "\n"
   ]
  },
  {
   "cell_type": "code",
   "execution_count": 13,
   "metadata": {},
   "outputs": [],
   "source": [
    "# Testing class constructor __init__ method\n",
    "p = Point(3,4)\n",
    "assert p.y == 4\n",
    "assert p.x == 3"
   ]
  },
  {
   "cell_type": "code",
   "execution_count": 11,
   "metadata": {},
   "outputs": [],
   "source": [
    "#testing the distance method\n",
    "p = Point(3, 4)\n",
    "assert p.distanceFromOrigin() == 5.0\n"
   ]
  },
  {
   "cell_type": "code",
   "execution_count": 14,
   "metadata": {},
   "outputs": [],
   "source": [
    "#testing the move method\n",
    "p = Point(3, 4)\n",
    "p.move(-2, 3)\n",
    "assert p.x == 1\n",
    "assert p.y == 7"
   ]
  },
  {
   "cell_type": "markdown",
   "metadata": {},
   "source": [
    "## Exceptions"
   ]
  },
  {
   "cell_type": "markdown",
   "metadata": {},
   "source": [
    "Exceptions are often defined as being “errors” but this is not always the case. All errors in Python are dealt with using exceptions, but not all exceptions are errors.\n",
    "\n",
    "The try/except control structure provides a way to process a run-time error and continue on with program execution. (Run-time errors like index out of bounds can be caught and handled gracefully with try/except.)\n",
    "\n",
    "With try/except, you tell the python interpreter:\n",
    "\n",
    "- Try to execute a block of code, the “try” clause.\n",
    "\n",
    "    - If the whole block of code executes without any run-time errors, just carry on with the rest of the program after the try/except statement.\n",
    "\n",
    "- If a run-time error does occur during execution of the block of code:\n",
    "\n",
    "    - skip the rest of that block of code (but don’t exit the whole program)\n",
    "\n",
    "    - execute a block of code in the “except” clause\n",
    "\n",
    "    - then carry on with the rest of the program after the try/except statement\n",
    "\n"
   ]
  },
  {
   "cell_type": "markdown",
   "metadata": {},
   "source": [
    "```\n",
    "try:\n",
    "   <try clause code block>\n",
    "except <ErrorType>:\n",
    "   <exception handler code block> ```"
   ]
  },
  {
   "cell_type": "code",
   "execution_count": 2,
   "metadata": {},
   "outputs": [
    {
     "name": "stdout",
     "output_type": "stream",
     "text": [
      "got an error\n",
      "continuing\n"
     ]
    }
   ],
   "source": [
    "try:\n",
    "    items = ['a', 'b']\n",
    "    third = items[2]\n",
    "    print(\"This won't print\")\n",
    "except Exception:\n",
    "    print(\"got an error\")\n",
    "\n",
    "print(\"continuing\")\n"
   ]
  },
  {
   "cell_type": "markdown",
   "metadata": {},
   "source": [
    "If we catch only IndexEror, and we actually have a divide by zero error, the program does stop executing."
   ]
  },
  {
   "cell_type": "code",
   "execution_count": 3,
   "metadata": {},
   "outputs": [
    {
     "name": "stdout",
     "output_type": "stream",
     "text": [
      "error 1\n",
      "continuing\n"
     ]
    },
    {
     "ename": "ZeroDivisionError",
     "evalue": "division by zero",
     "output_type": "error",
     "traceback": [
      "\u001b[0;31m---------------------------------------------------------------------------\u001b[0m",
      "\u001b[0;31mZeroDivisionError\u001b[0m                         Traceback (most recent call last)",
      "\u001b[0;32m<ipython-input-3-ec4f2ce57e13>\u001b[0m in \u001b[0;36m<module>\u001b[0;34m\u001b[0m\n\u001b[1;32m     10\u001b[0m \u001b[0;32mtry\u001b[0m\u001b[0;34m:\u001b[0m\u001b[0;34m\u001b[0m\u001b[0;34m\u001b[0m\u001b[0m\n\u001b[1;32m     11\u001b[0m     \u001b[0mx\u001b[0m \u001b[0;34m=\u001b[0m \u001b[0;36m5\u001b[0m\u001b[0;34m\u001b[0m\u001b[0;34m\u001b[0m\u001b[0m\n\u001b[0;32m---> 12\u001b[0;31m     \u001b[0my\u001b[0m \u001b[0;34m=\u001b[0m \u001b[0mx\u001b[0m\u001b[0;34m/\u001b[0m\u001b[0;36m0\u001b[0m\u001b[0;34m\u001b[0m\u001b[0;34m\u001b[0m\u001b[0m\n\u001b[0m\u001b[1;32m     13\u001b[0m     \u001b[0mprint\u001b[0m\u001b[0;34m(\u001b[0m\u001b[0;34m\"This won't print, either\"\u001b[0m\u001b[0;34m)\u001b[0m\u001b[0;34m\u001b[0m\u001b[0;34m\u001b[0m\u001b[0m\n\u001b[1;32m     14\u001b[0m \u001b[0;32mexcept\u001b[0m \u001b[0mIndexError\u001b[0m\u001b[0;34m:\u001b[0m\u001b[0;34m\u001b[0m\u001b[0;34m\u001b[0m\u001b[0m\n",
      "\u001b[0;31mZeroDivisionError\u001b[0m: division by zero"
     ]
    }
   ],
   "source": [
    "try:\n",
    "    items = ['a', 'b']\n",
    "    third = items[2]\n",
    "    print(\"This won't print\")\n",
    "except IndexError:\n",
    "    print(\"error 1\")\n",
    "\n",
    "print(\"continuing\")\n",
    "\n",
    "try:\n",
    "    x = 5\n",
    "    y = x/0\n",
    "    print(\"This won't print, either\")\n",
    "except IndexError:\n",
    "    print(\"error 2\")\n",
    "\n",
    "\n",
    "print(\"continuing again\")\n"
   ]
  },
  {
   "cell_type": "markdown",
   "metadata": {},
   "source": [
    "There’s one other useful feature. The exception code can access a variable that contains information about exactly what the error was. Thus, for example, in the except clause you could print out the information that would normally be printed as an error message but continue on with execution of the rest of the program. To do that, you specify a variable name after the exception class that’s being handled. The exception clause code can refer to that variable name."
   ]
  },
  {
   "cell_type": "code",
   "execution_count": 4,
   "metadata": {},
   "outputs": [
    {
     "name": "stdout",
     "output_type": "stream",
     "text": [
      "got an error\n",
      "list index out of range\n",
      "continuing\n"
     ]
    }
   ],
   "source": [
    "try:\n",
    "    items = ['a', 'b']\n",
    "    third = items[2]\n",
    "    print(\"This won't print\")\n",
    "except Exception as e:\n",
    "    print(\"got an error\")\n",
    "    print(e)\n",
    "\n",
    "print(\"continuing\")\n"
   ]
  },
  {
   "cell_type": "markdown",
   "metadata": {},
   "source": [
    " ## When to use try/except"
   ]
  },
  {
   "cell_type": "markdown",
   "metadata": {},
   "source": [
    "The reason to use try/except is when you have a code block to execute that will sometimes run correctly and sometimes not, depending on conditions you can’t foresee at the time you’re writing the code.\n",
    "\n",
    "For example, when you are running code that fetches data from a website, you may run the code when you don’t have a network connection or when the external website is temporarily not responding. If your program can still do something useful in those situations, you would like to handle the exception and have the rest of your code execute.\n",
    "\n",
    "As another example, suppose you have fetched some nested data from a website into a dictionary d. When you try to extract specific elements, some may be missing: d may not include a particular key, for example. If you anticipate a particular key potentially not being present, you could write an if..else check to take care of it.\n",
    "\n",
    "\n",
    "```\n",
    "if somekey in d:\n",
    "    # it's there; extract the data\n",
    "    extract_data(d)\n",
    "else:\n",
    "    skip_this_one(d)\n",
    "```\n",
    "\n",
    "However, if you’re extracting lots of different data, it can get tedious to check for all of them. You can wrap all the data extraction in a try/except.\n",
    "\n",
    "\n",
    "```\n",
    "try:\n",
    "    extract_data(d)\n",
    "except:\n",
    "    skip_this_one(d)\n",
    "```\n",
    "\n",
    "For more info: https://docs.python.org/3/tutorial/errors.html"
   ]
  },
  {
   "cell_type": "code",
   "execution_count": null,
   "metadata": {},
   "outputs": [],
   "source": []
  }
 ],
 "metadata": {
  "kernelspec": {
   "display_name": "Python 3",
   "language": "python",
   "name": "python3"
  },
  "language_info": {
   "codemirror_mode": {
    "name": "ipython",
    "version": 3
   },
   "file_extension": ".py",
   "mimetype": "text/x-python",
   "name": "python",
   "nbconvert_exporter": "python",
   "pygments_lexer": "ipython3",
   "version": "3.7.4"
  }
 },
 "nbformat": 4,
 "nbformat_minor": 2
}
